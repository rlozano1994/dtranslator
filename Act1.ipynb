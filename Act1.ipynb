{
 "cells": [
  {
   "cell_type": "code",
   "execution_count": 2,
   "id": "a86ef77e",
   "metadata": {},
   "outputs": [],
   "source": [
    "import numpy as np\n",
    "import pandas as pd\n",
    "\n",
    "\n",
    "def mi_func():\n",
    "  print(\"Hola mundo\")"
   ]
  },
  {
   "cell_type": "code",
   "execution_count": 2,
   "id": "eb7118a1",
   "metadata": {},
   "outputs": [
    {
     "name": "stdout",
     "output_type": "stream",
     "text": [
      "Hola mundo\n"
     ]
    }
   ],
   "source": [
    "mi_func()"
   ]
  },
  {
   "cell_type": "code",
   "execution_count": 25,
   "id": "1501cfe4",
   "metadata": {},
   "outputs": [
    {
     "name": "stdout",
     "output_type": "stream",
     "text": [
      "Ingrese los colores separados por un - : \n",
      "Azul-Rojo-Amarillo\n",
      "62\n"
     ]
    }
   ],
   "source": [
    "#def colores(string_colores):\n",
    "    #for x in string_colores:\n",
    "        #if string_colores[x] == \"-\":\n",
    "\n",
    "print (\"Ingrese los colores separados por un - : \")\n",
    "string_colores = input()\n",
    "\n",
    "#print (string_colores)   \n",
    "\n",
    "def colores(string_colores):\n",
    "    x = string_colores.split(\"-\")\n",
    "    \n",
    "    #print(x)\n",
    "    \n",
    "    length = len(x)\n",
    "    result = \"\"\n",
    "    \n",
    "    for y in range(length):\n",
    "        if x[y] == \"Negro\":\n",
    "            result = result + \"0\"\n",
    "        if x[y] == \"Marron\":\n",
    "            result = result + \"1\"\n",
    "        if x[y] == \"Rojo\":\n",
    "            result = result + \"2\"\n",
    "        if x[y] == \"Naranja\":\n",
    "            result = result + \"3\"\n",
    "        if x[y] == \"Amarillo\":\n",
    "            result = result + \"4\"\n",
    "        if x[y] == \"Verde\":\n",
    "            result = result + \"5\"\n",
    "        if x[y] == \"Azul\":\n",
    "            result = result + \"6\"\n",
    "        if x[y] == \"Purpura\":\n",
    "            result = result + \"7\"\n",
    "        if x[y] == \"Gris\":\n",
    "            result = result + \"8\"\n",
    "        if x[y] == \"Blanco\":\n",
    "            result = result + \"9\"\n",
    "        \n",
    "    \n",
    "    return result[0]+result[1]\n",
    "    \n",
    "    #Negro: 0, Marrón: 1, Rojo: 2, Naranja: 3, Amarillo: 4, Verde: 5, Azul: 6, Púrpura: 7, Gris: 8, Blanco: 9\n",
    "\n",
    "print(colores(string_colores))\n",
    "            \n",
    "   \n"
   ]
  },
  {
   "cell_type": "code",
   "execution_count": 50,
   "id": "853d3153",
   "metadata": {},
   "outputs": [
    {
     "name": "stdout",
     "output_type": "stream",
     "text": [
      "Ingrese el año: \n",
      "2400\n",
      "Bisiesto\n"
     ]
    }
   ],
   "source": [
    "print (\"Ingrese el año: \")\n",
    "dato1 = input()\n",
    "dato1 = int(dato1)\n",
    "\n",
    "\n",
    "def bisiesto(dato):\n",
    "    if (dato % 4 == 0) and (dato%100 != 0):\n",
    "        res = \"Bisiesto\"\n",
    "        return res\n",
    "    elif (dato%100 == 0) and (dato%400 == 0):\n",
    "        res = \"Bisiesto\"\n",
    "        return res\n",
    "    else :\n",
    "        res = \"No es bisiesto\"\n",
    "        return res\n",
    "\n",
    "print(bisiesto(dato1))"
   ]
  },
  {
   "cell_type": "code",
   "execution_count": 6,
   "id": "74a334df",
   "metadata": {},
   "outputs": [
    {
     "data": {
      "text/plain": [
       "48.73"
      ]
     },
     "execution_count": 6,
     "metadata": {},
     "output_type": "execute_result"
    }
   ],
   "source": [
    "def edad_planeta(edad,planeta):\n",
    "    year_to_sec = 31557600\n",
    "    \n",
    "    edadTierra = edad/year_to_sec\n",
    "    \n",
    "    dicPlanetas = {\n",
    "        \"Mercurio\":0.2408467,\n",
    "        \"Venus\":0.61519726, \n",
    "        \"Marte\":1.8808158, \n",
    "        \"Jupiter\":11.862615, \n",
    "        \"Saturno\":29.447498, \n",
    "        \"Urano\":84.016846, \n",
    "        \"Neptuno\":164.79132 }\n",
    "    \n",
    "    if planeta == \"Tierra\":\n",
    "        return round(edadTierra,2)\n",
    "    else:\n",
    "        return round(edadTierra/dicPlanetas[planeta],2)\n",
    "\n",
    "edad_planeta(946100000,\"Venus\")\n",
    "    "
   ]
  },
  {
   "cell_type": "code",
   "execution_count": null,
   "id": "17e758fa",
   "metadata": {},
   "outputs": [],
   "source": []
  }
 ],
 "metadata": {
  "kernelspec": {
   "display_name": "Python 3 (ipykernel)",
   "language": "python",
   "name": "python3"
  },
  "language_info": {
   "codemirror_mode": {
    "name": "ipython",
    "version": 3
   },
   "file_extension": ".py",
   "mimetype": "text/x-python",
   "name": "python",
   "nbconvert_exporter": "python",
   "pygments_lexer": "ipython3",
   "version": "3.9.12"
  }
 },
 "nbformat": 4,
 "nbformat_minor": 5
}
